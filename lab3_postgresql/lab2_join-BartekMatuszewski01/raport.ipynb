{
 "cells": [
  {
   "source": [
    "# <center>Laboratorium Analiza i bazy danych </center>\n",
    "\n",
    "## <center>Łączenie tabel, podzapytania i funkcje agregujące</center>"
   ],
   "cell_type": "markdown",
   "metadata": {
    "pycharm": {
     "name": "#%% md\n"
    }
   }
  },
  {
   "source": [
    "## Przykładowe tabele obrazujące łączenie\n",
    "\n",
    "Do zobrazowania operacji łączenia zostaną użyte tabele:\n",
    "\n",
    "```sql\n",
    "CREATE TABLE shape_a (\n",
    "    id INT PRIMARY KEY,\n",
    "    shape VARCHAR (100) NOT NULL\n",
    ");\n",
    " \n",
    "CREATE TABLE shape_b (\n",
    "    id INT PRIMARY KEY,\n",
    "    shape VARCHAR (100) NOT NULL\n",
    ");\n",
    "```\n",
    " \n",
    "Polecenie CREATE TABLE tworzy tabelę o zadanej nazwie i strukturze. Ogólna postać to:\n",
    "```sql\n",
    "CREATE TABLE tab_name (\n",
    "    col_name1 data_type constrain,\n",
    "    col_name1 data_type constrain,\n",
    "    ...\n",
    ");\n",
    "```\n",
    "Należy uzupełnić ją danymi:\n",
    "```sql\n",
    "INSERT INTO shape_a (id, shape)\n",
    "VALUES\n",
    "    (1, 'Trójkąt'),\n",
    "    (2, 'Kwadrat'),\n",
    "    (3, 'Deltoid'),\n",
    "    (4, 'Traper');\n",
    " \n",
    "INSERT INTO shape_b (id, shape)\n",
    "VALUES\n",
    "    (1, 'Kwadrat'),\n",
    "    (2, 'Trójkąt'),\n",
    "    (3, 'Romb'),\n",
    "    (4, 'Równoległobok');\n",
    "```\n",
    "Komenda INSERT INTO pozwala na dodanie do tabeli rekordów. Ogólna postać to:\n",
    "\n",
    "```sql\n",
    "INSERT INTO tab_name (col1_name, col2_name2, ...) \n",
    "VALUES\n",
    "    (val1_col1, val2_col2),\n",
    "    (val2_col1, val2_col2),\n",
    "    ...\n",
    "```"
   ],
   "cell_type": "markdown",
   "metadata": {
    "pycharm": {
     "name": "#%% md\n"
    }
   }
  },
  {
   "source": [
    "## Inner join \n",
    "\n",
    "Jest to podstawowy rodzaj złączenie. Ten sposób złączenia wybiera  te wiersze, dla których warunek złączenia jest spełniony. W żadnej z łączonych tabel kolumna użyta do łączenia nie może mieć wartości NULL. \n",
    "\n",
    "#### Przykład:\n",
    "```sql\n",
    "SELECT\n",
    "    a.id id_a,\n",
    "    a.shape shape_a,\n",
    "    b.id id_b,\n",
    "    b.shape shape_b\n",
    "FROM\n",
    "    shape_a a\n",
    "INNER JOIN shape_b b ON a.shape = b.shape;\n",
    "```\n",
    "W zapytaniu powyżej użyto *aliasów* nazw tabel i column wynikowych, jest to szczególnie przydatne przy długich nazwach tabel i wprowadza czytelność w zapytaniu.\n",
    "\n",
    "#### Wynik:\n",
    "|id_a|shape_a|id_b|shape_b|\n",
    "|-|-|-|-|\n",
    "|1|Trójkąt|2|Trójkąt|\n",
    "|2|Kwadrat|1|Kwadrat|"
   ],
   "cell_type": "markdown",
   "metadata": {
    "pycharm": {
     "name": "#%% md\n"
    }
   }
  },
  {
   "source": [
    "## OUTER JOIN\n",
    "\n",
    "Istnieją trzy rodzaje złączeń OUTER:\n",
    "- LEFT OUTER JOIN,\n",
    "- RIGHT OUTER JOIN,\n",
    "- FULL OUTER JOIN.\n",
    "\n",
    "### LEFT OUTER JOIN\n",
    "\n",
    "Ten rodzaj złączenie zwróci wszystkie rekordy z lewej tablicy i dopasuje do nich rekordy z prawej tablicy które spełniją zadany warunek złączenia. Jeżeli w prawej tablicy nie występują rekordy spełnijące warunek złączenia z lewą w ich miejscu pojawią się wartości NULL.\n",
    "\n",
    "#### Przykład 1:\n",
    "```sql\n",
    "SELECT\n",
    "    a.id id_a,\n",
    "    a.shape shape_a,\n",
    "    b.id id_b,\n",
    "    b.shape shape_b\n",
    "FROM\n",
    "    shape_a a\n",
    "LEFT JOIN shape_b b ON a.shape = b.shape;\n",
    "```\n",
    "#### Wynik:\n",
    "|id_a|shape_a|id_b|shape_b|\n",
    "|-|-|-|-|\n",
    "|1|Trójkąt|2|Trójkąt|\n",
    "|2|Kwadrat|1|Kwadrat|\n",
    "|3|Deltoid|NULL|NULL|\n",
    "|4|Traper|NULL|NULL|\n",
    "\n",
    "#### Przykład 2:\n",
    "```sql\n",
    "SELECT\n",
    "    b.id id_b,\n",
    "    b.shape shape_b,\n",
    "    a.id id_a,\n",
    "    a.shape shape_a   \n",
    "FROM\n",
    "    shape_b b\n",
    "LEFT JOIN shape_a a ON a.shape = b.shape;\n",
    "```\n",
    "#### Wynik:\n",
    "|id_a|shape_a|id_b|shape_b|\n",
    "|-|-|-|-|\n",
    "|1|Kwadrat|2|Kwadrat|\n",
    "|2|Trójkąt|1|Trójkąt|\n",
    "|3|Romb|NULL|NULL|\n",
    "|4|Równoległobok|NULL|NULL|\n",
    "\n",
    "### RIGHT OUTER JOIN\n",
    "\n",
    "Działa jak left outer join z tym, że prawa tablica w zapytaniu jest brana w całości.\n",
    "\n",
    "#### Przykład:\n",
    "```sql\n",
    "SELECT\n",
    "    a.id id_a,\n",
    "    a.shape shape_a,\n",
    "    b.id id_b,\n",
    "    b.shape shape_b\n",
    "FROM\n",
    "    shape_a a\n",
    "RIGHT JOIN shape_b b ON a.shape = b.shape;\n",
    "```\n",
    "\n",
    "#### Wynik:\n",
    "|id_a|shape_a|id_b|shape_b|\n",
    "|-|-|-|-|\n",
    "|2|Kwadrat|1|Kwadrat|\n",
    "|1|Trójkąt|2|Trójkąt|\n",
    "|NULL|NULL|3|Romb|\n",
    "|NULL|NULL|4|Równoległobok|\n",
    "\n",
    "\n",
    "### FULL OUTER JOIN\n",
    "\n",
    "Jest złączeniem które zwraca:\n",
    "- wiersze dla których warunek złączenia jest spełniony,\n",
    "- wiersze z lewej tabeli dla których nie ma odpowiedników w prawej,\n",
    "- wiersze z prawej tabeli dla których nie ma odpowiedników w lewej. \n",
    "\n",
    "#### Przykład:\n",
    "```sql\n",
    "SELECT\n",
    "    a.id id_a,\n",
    "    a.shape shape_a,\n",
    "    b.id id_b,\n",
    "    b.shape shape_b\n",
    "FROM\n",
    "    shape_a a\n",
    "FULL JOIN shape_b b ON a.shape = b.shape;\n",
    "```\n",
    "|id_a|shape_a|id_b|shape_b|\n",
    "|-|-|-|-|\n",
    "|1|Trójkąt|2|Trójkąt|\n",
    "|2|Kwadrat|1|Kwadrat|\n",
    "|3|Deltoid\"|NULL|NULL|\n",
    "|4|Traper|NULL|NULL|\n",
    "|NULL|NULL|3|Romb|\n",
    "|NULL|NULL|4|Równoległobok|"
   ],
   "cell_type": "markdown",
   "metadata": {
    "pycharm": {
     "name": "#%% md\n"
    }
   }
  },
  {
   "source": [
    "## Podzapytania\n",
    "\n",
    "Podzapytanie zagnieżdżone SELECT znajduje się wewnątrz zewnętrznego zapytania SELECT, np. po klauzuli WHERE, HAVING lub FROM. W przypadku tego rodzaju zapytań w pierwszej kolejności wykonywane są wewnętrzne zapytania SELECT, a ich wynik jest wykorzystywany do zewnętrznego zapytania SELECT. Stąd łatwo zuważyć, że mogą one służyć do poprawy wydajności obsługi zapytania. Należy dobierać podzapytania tak by najbardziej zagnieżdżone podzapytanie zawierało najmniejszy zbiór poszukiwań. \n",
    "\n",
    "#### Przykład:\n",
    "Jeżeli chcemy znaleźć w bazie informację o tytułach filmów zwróconych w zadanym okresie możemy wykonać następujące zapytanie:\n",
    "```sql\n",
    "SELECT\n",
    "   film_id,\n",
    "   title\n",
    "FROM\n",
    "   film\n",
    "WHERE\n",
    "   film_id IN (\n",
    "      SELECT\n",
    "         inventory.film_id\n",
    "      FROM\n",
    "         rental\n",
    "      INNER JOIN inventory ON inventory.inventory_id = rental.inventory_id\n",
    "      WHERE\n",
    "         return_date BETWEEN '2005-05-29'\n",
    "      AND '2005-05-30'\n",
    "   );\n",
    "```\n",
    "\n",
    "#### Wynik\n",
    "|film_id|title|\n",
    "|-|-|\n",
    "|307|Fellowship Autumn|\n",
    "|255|Driving Polish|\n",
    "|388|Gunfight Moon|\n",
    "|130|Celebrity Horn|\n",
    "|563|Massacre Usual|\n",
    "|397|Hanky October|\n",
    "|...|...|\n",
    "\n",
    "### Używanie podzapytań\n",
    "\n",
    "Pod zapytania mogą być używane w :\n",
    "- SELECT,\n",
    "- UPDATE,\n",
    "- DELETE,\n",
    "- Funkcjach agregujących,\n",
    "- Do definiowania tabel tymczasowych.\n",
    "\n",
    "Używając podzapytań zapytania SQL szybko mogą stać się mało czytelne. Przez co będą trudne w zrozumieniu i późniejszym utrzymaniu. W celu analizy zapytań można użyć klauzuli __EXPLAIN__, która przeanalizuje zapytanie. Klauzula ta może służyć również do porównywania wydajności zapytań\n",
    "\n",
    "#### Przykład:\n",
    "```sql\n",
    "EXPLAIN SELECT\n",
    "   *\n",
    "FROM\n",
    "   film\n",
    "```"
   ],
   "cell_type": "markdown",
   "metadata": {
    "pycharm": {
     "name": "#%% md\n"
    }
   }
  },
  {
   "source": [
    "## Funkcje agregujące\n",
    "\n",
    "Funkcje agregujące wykonują obliczenia na zestawie wierszy i zwracają pojedynczy wiersz. PostgreSQL udostępnia wszystkie standardowe funkcje agregujące SQL w następujący sposób:\n",
    "- AVG () - zwraca średnią wartość.\n",
    "- COUNT () - zwraca liczbę wartości.\n",
    "- MAX () - zwraca maksymalną wartość.\n",
    "- MIN () - zwraca minimalną wartość.\n",
    "- SUM () - zwraca sumę wszystkich lub różnych wartości.\n",
    "\n",
    "Pełna lista funkcji agregującej: https://www.postgresql.org/docs/9.5/functions-aggregate.html\n",
    "\n",
    "Często używamy funkcji agregujących z klauzulą GROUP BY w instrukcji SELECT. W tych przypadkach klauzula GROUP BY dzieli zestaw wyników na grupy wierszy i funkcja agregująca wykonuje obliczenia dla każdej grupy, np. maksimum, minimum, średnia itp. Funkcji agregujących można używać funkcji agregujących jako wyrażeń tylko w następujących klauzulach: SELECT i HAVING.\n",
    "\n",
    "### GROUP BY\n",
    "Klauzula GROUP BY dzieli wiersze zwrócone z instrukcji SELECT na grupy. Dla  każdej grupy można zastosować funkcję agregującą, np. SUM aby obliczyć sumę pozycji lub\n",
    "COUNT aby uzyskać liczbę elementów w grupach.\n",
    "\n",
    "Poniższa instrukcja ilustruje składnię klauzuli GROUP BY:\n",
    "```sql\n",
    "SELECT \n",
    "    column_1, \n",
    "    aggregate_function(column_2)\n",
    "FROM \n",
    "    tbl_name\n",
    "GROUP BY \n",
    "    column_1;\n",
    "```\n",
    "Klauzula GROUP BY musi pojawić się zaraz po klauzuli FROM lub WHERE, n0astępnie GROUP BY zawiera listę  kolumna oddzielonych przecinkami. \n",
    "\n",
    "### HAVING\n",
    "Często używamy klauzuli HAVING w połączeniu z klauzulą GROUP BY do filtrowania wierszy grup\n",
    "które nie spełniają określonego warunku.\n",
    "\n",
    "Poniższa instrukcja ilustruje typową składnię klauzuli HAVING:\n",
    "```sql\n",
    "SELECT\n",
    "    column_1,\n",
    "    aggregate_function (column_2)\n",
    "FROM\n",
    "    tbl_name\n",
    "GROUP BY\n",
    "    column_1\n",
    "HAVING\n",
    "    condition;\n",
    "```\n",
    "Klauzula HAVING ustawia warunek dla wierszy grup utworzonych przez klauzulę GROUP BY.  \n",
    "\n",
    "Klauzula GROUP BY ma zastosowanie, podczas gdy klauzula WHERE określa wcześniej warunki dla poszczególnych wierszy."
   ],
   "cell_type": "markdown",
   "metadata": {
    "pycharm": {
     "name": "#%% md\n"
    }
   }
  },
  {
   "source": [
    "## Zadania wprowadzające\n",
    "Wykonaj zapytania przy użyciu DBMS:  \n",
    "  \n",
    "1. Znajdź listę wszystkich filmów o tej samej długości.\n",
    "2. Znajdź wszystkich klientów mieszkających w tym samym mieście.\n",
    "3. Oblicz średni koszt wypożyczenia wszystkich filmów.\n",
    "4. Oblicz i wyświetl liczbę filmów we wszystkich kategoriach.\n",
    "5. Wyświetl liczbę wszystkich klientów pogrupowanych według kraju.\n",
    "6. Wyświetl informacje o sklepie, który ma więcej niż 100 klientów i mniej niż 300 klientów.\n",
    "7. Wybierz wszystkich klientów, którzy oglądali filmy ponad 200 godzin.\n",
    "8. Oblicz średnią wartość wypożyczenia filmu.\n",
    "9. Oblicz średnią wartość długości filmu we wszystkich kategoriach.\n",
    "10. Znajdź najdłuższe tytuły filmowe we wszystkich kategoriach.\n",
    "11. Znajdź najdłuższy film we wszystkich kategoriach. Porównaj wynik z pkt 10."
   ],
   "cell_type": "markdown",
   "metadata": {
    "pycharm": {
     "name": "#%% md\n"
    }
   }
  },
  {
   "source": [
    "## Zadanie implementacyjne\n",
    "Zaimplementuj wszystkie funkcje w pliku main.py zgodnie z opisem a następnie przetestuj je w notatniku."
   ],
   "cell_type": "markdown",
   "metadata": {
    "pycharm": {
     "name": "#%% md\n"
    }
   }
  },
  {
   "cell_type": "code",
   "execution_count": 19,
   "metadata": {
    "pycharm": {
     "name": "#%%\n"
    }
   },
   "outputs": [],
   "source": [
    "\n",
    "import numpy as np\n",
    "import psycopg2 as pg\n",
    "import pandas as pd\n",
    "\n",
    "connection = pg.connect(host='pgsql-196447.vipserv.org', port=5432, dbname='wbauer_adb', user='wbauer_adb',\n",
    "                        password='adb2020')\n"
   ]
  },
  {
   "cell_type": "code",
   "execution_count": 20,
   "outputs": [
    {
     "data": {
      "text/plain": "                   title  length\n0    Ridgemont Submarine      46\n1              Iron Moon      46\n2           Alien Center      46\n3          Kwai Homeward      46\n4       Labyrinth League      46\n..                   ...     ...\n995       Darn Forrester     185\n996    Sweet Brotherhood     185\n997   Soldiers Evolution     185\n998         Worst Banger     185\n999       Control Anthem     185\n\n[1000 rows x 2 columns]",
      "text/html": "<div>\n<style scoped>\n    .dataframe tbody tr th:only-of-type {\n        vertical-align: middle;\n    }\n\n    .dataframe tbody tr th {\n        vertical-align: top;\n    }\n\n    .dataframe thead th {\n        text-align: right;\n    }\n</style>\n<table border=\"1\" class=\"dataframe\">\n  <thead>\n    <tr style=\"text-align: right;\">\n      <th></th>\n      <th>title</th>\n      <th>length</th>\n    </tr>\n  </thead>\n  <tbody>\n    <tr>\n      <th>0</th>\n      <td>Ridgemont Submarine</td>\n      <td>46</td>\n    </tr>\n    <tr>\n      <th>1</th>\n      <td>Iron Moon</td>\n      <td>46</td>\n    </tr>\n    <tr>\n      <th>2</th>\n      <td>Alien Center</td>\n      <td>46</td>\n    </tr>\n    <tr>\n      <th>3</th>\n      <td>Kwai Homeward</td>\n      <td>46</td>\n    </tr>\n    <tr>\n      <th>4</th>\n      <td>Labyrinth League</td>\n      <td>46</td>\n    </tr>\n    <tr>\n      <th>...</th>\n      <td>...</td>\n      <td>...</td>\n    </tr>\n    <tr>\n      <th>995</th>\n      <td>Darn Forrester</td>\n      <td>185</td>\n    </tr>\n    <tr>\n      <th>996</th>\n      <td>Sweet Brotherhood</td>\n      <td>185</td>\n    </tr>\n    <tr>\n      <th>997</th>\n      <td>Soldiers Evolution</td>\n      <td>185</td>\n    </tr>\n    <tr>\n      <th>998</th>\n      <td>Worst Banger</td>\n      <td>185</td>\n    </tr>\n    <tr>\n      <th>999</th>\n      <td>Control Anthem</td>\n      <td>185</td>\n    </tr>\n  </tbody>\n</table>\n<p>1000 rows × 2 columns</p>\n</div>"
     },
     "execution_count": 20,
     "metadata": {},
     "output_type": "execute_result"
    }
   ],
   "source": [
    "# 1. Znajdź listę wszystkich filmów o tej samej długości.\n",
    "df = pd.read_sql(f\"\"\"\n",
    "        select\n",
    "        title,\n",
    "        length\n",
    "\n",
    "        from\n",
    "        film\n",
    "\n",
    "        where length\n",
    "        in (select length\n",
    "                from\n",
    "                (select length,\n",
    "                count(title)\n",
    "                from film\n",
    "                group by length\n",
    "                having count(title) > 1) as sel)\n",
    "                order by length asc\n",
    "            \"\"\", connection)\n",
    "df"
   ],
   "metadata": {
    "collapsed": false,
    "pycharm": {
     "name": "#%%\n"
    }
   }
  },
  {
   "cell_type": "code",
   "execution_count": 21,
   "outputs": [
    {
     "data": {
      "text/plain": "                  title  length\n0    Independence Hotel     157\n1         Crusade Honey     112\n2       Birdcage Casper     103\n3      Fool Mockingbird     158\n4        Meet Chocolate      80\n..                  ...     ...\n995          Date Speed     104\n996     Airport Pollock      54\n997  Unbreakable Karate      62\n998     Godfather Diary      73\n999    Dangerous Uptown     121\n\n[1000 rows x 2 columns]",
      "text/html": "<div>\n<style scoped>\n    .dataframe tbody tr th:only-of-type {\n        vertical-align: middle;\n    }\n\n    .dataframe tbody tr th {\n        vertical-align: top;\n    }\n\n    .dataframe thead th {\n        text-align: right;\n    }\n</style>\n<table border=\"1\" class=\"dataframe\">\n  <thead>\n    <tr style=\"text-align: right;\">\n      <th></th>\n      <th>title</th>\n      <th>length</th>\n    </tr>\n  </thead>\n  <tbody>\n    <tr>\n      <th>0</th>\n      <td>Independence Hotel</td>\n      <td>157</td>\n    </tr>\n    <tr>\n      <th>1</th>\n      <td>Crusade Honey</td>\n      <td>112</td>\n    </tr>\n    <tr>\n      <th>2</th>\n      <td>Birdcage Casper</td>\n      <td>103</td>\n    </tr>\n    <tr>\n      <th>3</th>\n      <td>Fool Mockingbird</td>\n      <td>158</td>\n    </tr>\n    <tr>\n      <th>4</th>\n      <td>Meet Chocolate</td>\n      <td>80</td>\n    </tr>\n    <tr>\n      <th>...</th>\n      <td>...</td>\n      <td>...</td>\n    </tr>\n    <tr>\n      <th>995</th>\n      <td>Date Speed</td>\n      <td>104</td>\n    </tr>\n    <tr>\n      <th>996</th>\n      <td>Airport Pollock</td>\n      <td>54</td>\n    </tr>\n    <tr>\n      <th>997</th>\n      <td>Unbreakable Karate</td>\n      <td>62</td>\n    </tr>\n    <tr>\n      <th>998</th>\n      <td>Godfather Diary</td>\n      <td>73</td>\n    </tr>\n    <tr>\n      <th>999</th>\n      <td>Dangerous Uptown</td>\n      <td>121</td>\n    </tr>\n  </tbody>\n</table>\n<p>1000 rows × 2 columns</p>\n</div>"
     },
     "execution_count": 21,
     "metadata": {},
     "output_type": "execute_result"
    }
   ],
   "source": [
    "df = pd.read_sql(f\"\"\"\n",
    "        select\n",
    "        title,\n",
    "        length\n",
    "\n",
    "        from\n",
    "        film\n",
    "\n",
    "        group by length, title\n",
    "            \"\"\", connection)\n",
    "df"
   ],
   "metadata": {
    "collapsed": false,
    "pycharm": {
     "name": "#%%\n"
    }
   }
  },
  {
   "cell_type": "code",
   "execution_count": 22,
   "outputs": [
    {
     "data": {
      "text/plain": "  first_name last_name    city\n0      Scott   Shelley  Aurora\n1    Clinton    Buford  Aurora\n2     Mattie   Hoffman  London\n3      Cecil     Vines  London",
      "text/html": "<div>\n<style scoped>\n    .dataframe tbody tr th:only-of-type {\n        vertical-align: middle;\n    }\n\n    .dataframe tbody tr th {\n        vertical-align: top;\n    }\n\n    .dataframe thead th {\n        text-align: right;\n    }\n</style>\n<table border=\"1\" class=\"dataframe\">\n  <thead>\n    <tr style=\"text-align: right;\">\n      <th></th>\n      <th>first_name</th>\n      <th>last_name</th>\n      <th>city</th>\n    </tr>\n  </thead>\n  <tbody>\n    <tr>\n      <th>0</th>\n      <td>Scott</td>\n      <td>Shelley</td>\n      <td>Aurora</td>\n    </tr>\n    <tr>\n      <th>1</th>\n      <td>Clinton</td>\n      <td>Buford</td>\n      <td>Aurora</td>\n    </tr>\n    <tr>\n      <th>2</th>\n      <td>Mattie</td>\n      <td>Hoffman</td>\n      <td>London</td>\n    </tr>\n    <tr>\n      <th>3</th>\n      <td>Cecil</td>\n      <td>Vines</td>\n      <td>London</td>\n    </tr>\n  </tbody>\n</table>\n</div>"
     },
     "execution_count": 22,
     "metadata": {},
     "output_type": "execute_result"
    }
   ],
   "source": [
    "#2. Znajdź wszystkich klientów mieszkających w tym samym mieście.\n",
    "\n",
    "df = pd.read_sql(f\"\"\"\n",
    "        select\n",
    "        first_name,\n",
    "        last_name,\n",
    "        city\n",
    "\n",
    "        from customer\n",
    "\n",
    "        join address using (address_id)\n",
    "\n",
    "        join city using (city_id)\n",
    "\n",
    "        where city in (select city\n",
    "            from (select count(*), city\n",
    "                from\n",
    "                customer\n",
    "\n",
    "                join address using (address_id)\n",
    "                join city using (city_id)\n",
    "                group by city\n",
    "                having count(*)>1) as citis)\n",
    "                order by city\n",
    "            \"\"\", connection)\n",
    "df"
   ],
   "metadata": {
    "collapsed": false,
    "pycharm": {
     "name": "#%%\n"
    }
   }
  },
  {
   "cell_type": "code",
   "execution_count": 23,
   "outputs": [
    {
     "data": {
      "text/plain": "                     title       avg\n0       Graceland Dynamite  6.323333\n1                 Opus Ice  6.090000\n2         Braveheart Human  3.390000\n3           Wonderful Drop  5.865000\n4          Rush Goodfellas  2.918571\n..                     ...       ...\n953  Mockingbird Hollywood  2.444545\n954     Gathering Calendar  1.990000\n955         Drums Dynamite  1.913077\n956           Samurai Lion  4.240000\n957           Pond Seattle  3.434444\n\n[958 rows x 2 columns]",
      "text/html": "<div>\n<style scoped>\n    .dataframe tbody tr th:only-of-type {\n        vertical-align: middle;\n    }\n\n    .dataframe tbody tr th {\n        vertical-align: top;\n    }\n\n    .dataframe thead th {\n        text-align: right;\n    }\n</style>\n<table border=\"1\" class=\"dataframe\">\n  <thead>\n    <tr style=\"text-align: right;\">\n      <th></th>\n      <th>title</th>\n      <th>avg</th>\n    </tr>\n  </thead>\n  <tbody>\n    <tr>\n      <th>0</th>\n      <td>Graceland Dynamite</td>\n      <td>6.323333</td>\n    </tr>\n    <tr>\n      <th>1</th>\n      <td>Opus Ice</td>\n      <td>6.090000</td>\n    </tr>\n    <tr>\n      <th>2</th>\n      <td>Braveheart Human</td>\n      <td>3.390000</td>\n    </tr>\n    <tr>\n      <th>3</th>\n      <td>Wonderful Drop</td>\n      <td>5.865000</td>\n    </tr>\n    <tr>\n      <th>4</th>\n      <td>Rush Goodfellas</td>\n      <td>2.918571</td>\n    </tr>\n    <tr>\n      <th>...</th>\n      <td>...</td>\n      <td>...</td>\n    </tr>\n    <tr>\n      <th>953</th>\n      <td>Mockingbird Hollywood</td>\n      <td>2.444545</td>\n    </tr>\n    <tr>\n      <th>954</th>\n      <td>Gathering Calendar</td>\n      <td>1.990000</td>\n    </tr>\n    <tr>\n      <th>955</th>\n      <td>Drums Dynamite</td>\n      <td>1.913077</td>\n    </tr>\n    <tr>\n      <th>956</th>\n      <td>Samurai Lion</td>\n      <td>4.240000</td>\n    </tr>\n    <tr>\n      <th>957</th>\n      <td>Pond Seattle</td>\n      <td>3.434444</td>\n    </tr>\n  </tbody>\n</table>\n<p>958 rows × 2 columns</p>\n</div>"
     },
     "execution_count": 23,
     "metadata": {},
     "output_type": "execute_result"
    }
   ],
   "source": [
    "#3. Oblicz średni koszt wypożyczenia wszystkich filmów.\n",
    "\n",
    "df = pd.read_sql(f\"\"\"\n",
    "        select\n",
    "        title,\n",
    "        avg(payment.amount)\n",
    "\n",
    "        from\n",
    "        inventory\n",
    "\n",
    "        join rental using (inventory_id)\n",
    "        join payment using (rental_id)\n",
    "        join film using (film_id)\n",
    "\n",
    "        group by title\n",
    "            \"\"\", connection)\n",
    "df"
   ],
   "metadata": {
    "collapsed": false,
    "pycharm": {
     "name": "#%%\n"
    }
   }
  },
  {
   "cell_type": "code",
   "execution_count": 24,
   "outputs": [
    {
     "data": {
      "text/plain": "           name  count\n0        Sports     74\n1      Classics     57\n2           New     63\n3        Family     69\n4        Comedy     58\n5     Animation     66\n6        Travel     57\n7         Music     51\n8         Drama     62\n9        Horror     56\n10       Sci-Fi     61\n11        Games     61\n12  Documentary     68\n13      Foreign     73\n14       Action     64\n15     Children     60",
      "text/html": "<div>\n<style scoped>\n    .dataframe tbody tr th:only-of-type {\n        vertical-align: middle;\n    }\n\n    .dataframe tbody tr th {\n        vertical-align: top;\n    }\n\n    .dataframe thead th {\n        text-align: right;\n    }\n</style>\n<table border=\"1\" class=\"dataframe\">\n  <thead>\n    <tr style=\"text-align: right;\">\n      <th></th>\n      <th>name</th>\n      <th>count</th>\n    </tr>\n  </thead>\n  <tbody>\n    <tr>\n      <th>0</th>\n      <td>Sports</td>\n      <td>74</td>\n    </tr>\n    <tr>\n      <th>1</th>\n      <td>Classics</td>\n      <td>57</td>\n    </tr>\n    <tr>\n      <th>2</th>\n      <td>New</td>\n      <td>63</td>\n    </tr>\n    <tr>\n      <th>3</th>\n      <td>Family</td>\n      <td>69</td>\n    </tr>\n    <tr>\n      <th>4</th>\n      <td>Comedy</td>\n      <td>58</td>\n    </tr>\n    <tr>\n      <th>5</th>\n      <td>Animation</td>\n      <td>66</td>\n    </tr>\n    <tr>\n      <th>6</th>\n      <td>Travel</td>\n      <td>57</td>\n    </tr>\n    <tr>\n      <th>7</th>\n      <td>Music</td>\n      <td>51</td>\n    </tr>\n    <tr>\n      <th>8</th>\n      <td>Drama</td>\n      <td>62</td>\n    </tr>\n    <tr>\n      <th>9</th>\n      <td>Horror</td>\n      <td>56</td>\n    </tr>\n    <tr>\n      <th>10</th>\n      <td>Sci-Fi</td>\n      <td>61</td>\n    </tr>\n    <tr>\n      <th>11</th>\n      <td>Games</td>\n      <td>61</td>\n    </tr>\n    <tr>\n      <th>12</th>\n      <td>Documentary</td>\n      <td>68</td>\n    </tr>\n    <tr>\n      <th>13</th>\n      <td>Foreign</td>\n      <td>73</td>\n    </tr>\n    <tr>\n      <th>14</th>\n      <td>Action</td>\n      <td>64</td>\n    </tr>\n    <tr>\n      <th>15</th>\n      <td>Children</td>\n      <td>60</td>\n    </tr>\n  </tbody>\n</table>\n</div>"
     },
     "execution_count": 24,
     "metadata": {},
     "output_type": "execute_result"
    }
   ],
   "source": [
    "#4. Oblicz i wyświetl liczbę filmów we wszystkich kategoriach.\n",
    "\n",
    "df = pd.read_sql(f\"\"\"\n",
    "        select\n",
    "        name,\n",
    "        count(title)\n",
    "\n",
    "        from\n",
    "        category\n",
    "\n",
    "        join film_category using (category_id)\n",
    "        join film using (film_id)\n",
    "\n",
    "        group by name\n",
    "            \"\"\", connection)\n",
    "df"
   ],
   "metadata": {
    "collapsed": false,
    "pycharm": {
     "name": "#%%\n"
    }
   }
  },
  {
   "cell_type": "code",
   "execution_count": 25,
   "outputs": [
    {
     "data": {
      "text/plain": "                  country  count\n0              Bangladesh      3\n1               Indonesia     14\n2               Venezuela      7\n3                Cameroon      2\n4          Czech Republic      1\n..                    ...    ...\n103              Tanzania      3\n104                Poland      8\n105             Greenland      1\n106         French Guiana      1\n107  Virgin Islands, U.S.      1\n\n[108 rows x 2 columns]",
      "text/html": "<div>\n<style scoped>\n    .dataframe tbody tr th:only-of-type {\n        vertical-align: middle;\n    }\n\n    .dataframe tbody tr th {\n        vertical-align: top;\n    }\n\n    .dataframe thead th {\n        text-align: right;\n    }\n</style>\n<table border=\"1\" class=\"dataframe\">\n  <thead>\n    <tr style=\"text-align: right;\">\n      <th></th>\n      <th>country</th>\n      <th>count</th>\n    </tr>\n  </thead>\n  <tbody>\n    <tr>\n      <th>0</th>\n      <td>Bangladesh</td>\n      <td>3</td>\n    </tr>\n    <tr>\n      <th>1</th>\n      <td>Indonesia</td>\n      <td>14</td>\n    </tr>\n    <tr>\n      <th>2</th>\n      <td>Venezuela</td>\n      <td>7</td>\n    </tr>\n    <tr>\n      <th>3</th>\n      <td>Cameroon</td>\n      <td>2</td>\n    </tr>\n    <tr>\n      <th>4</th>\n      <td>Czech Republic</td>\n      <td>1</td>\n    </tr>\n    <tr>\n      <th>...</th>\n      <td>...</td>\n      <td>...</td>\n    </tr>\n    <tr>\n      <th>103</th>\n      <td>Tanzania</td>\n      <td>3</td>\n    </tr>\n    <tr>\n      <th>104</th>\n      <td>Poland</td>\n      <td>8</td>\n    </tr>\n    <tr>\n      <th>105</th>\n      <td>Greenland</td>\n      <td>1</td>\n    </tr>\n    <tr>\n      <th>106</th>\n      <td>French Guiana</td>\n      <td>1</td>\n    </tr>\n    <tr>\n      <th>107</th>\n      <td>Virgin Islands, U.S.</td>\n      <td>1</td>\n    </tr>\n  </tbody>\n</table>\n<p>108 rows × 2 columns</p>\n</div>"
     },
     "execution_count": 25,
     "metadata": {},
     "output_type": "execute_result"
    }
   ],
   "source": [
    "#5. Wyświetl liczbę wszystkich klientów pogrupowanych według kraju.\n",
    "\n",
    "df = pd.read_sql(f\"\"\"\n",
    "        select\n",
    "        country,\n",
    "        count(*)\n",
    "\n",
    "        from\n",
    "        customer\n",
    "\n",
    "        join address using (address_id)\n",
    "        join city using (city_id)\n",
    "        join country using (country_id)\n",
    "        group by country\n",
    "            \"\"\", connection)\n",
    "df"
   ],
   "metadata": {
    "collapsed": false,
    "pycharm": {
     "name": "#%%\n"
    }
   }
  },
  {
   "cell_type": "code",
   "execution_count": 26,
   "outputs": [
    {
     "data": {
      "text/plain": "   store_id  manager_staff_id  count\n0         2                 2    273",
      "text/html": "<div>\n<style scoped>\n    .dataframe tbody tr th:only-of-type {\n        vertical-align: middle;\n    }\n\n    .dataframe tbody tr th {\n        vertical-align: top;\n    }\n\n    .dataframe thead th {\n        text-align: right;\n    }\n</style>\n<table border=\"1\" class=\"dataframe\">\n  <thead>\n    <tr style=\"text-align: right;\">\n      <th></th>\n      <th>store_id</th>\n      <th>manager_staff_id</th>\n      <th>count</th>\n    </tr>\n  </thead>\n  <tbody>\n    <tr>\n      <th>0</th>\n      <td>2</td>\n      <td>2</td>\n      <td>273</td>\n    </tr>\n  </tbody>\n</table>\n</div>"
     },
     "execution_count": 26,
     "metadata": {},
     "output_type": "execute_result"
    }
   ],
   "source": [
    "#6. Wyświetl informacje o sklepie, który ma więcej niż 100 klientów i mniej niż 300 klientów.\n",
    "\n",
    "df = pd.read_sql(f\"\"\"\n",
    "        select\n",
    "        store_id,\n",
    "        manager_staff_id,\n",
    "        count(customer_id)\n",
    "\n",
    "        from\n",
    "        customer\n",
    "\n",
    "        join store using (store_id)\n",
    "        group by store_id\n",
    "        having count(customer_id) <= 300 and count(customer_id) >= 100\n",
    "            \"\"\", connection)\n",
    "df"
   ],
   "metadata": {
    "collapsed": false,
    "pycharm": {
     "name": "#%%\n"
    }
   }
  },
  {
   "cell_type": "code",
   "execution_count": 27,
   "outputs": [
    {
     "data": {
      "text/plain": "    first_name last_name   sum\n0        Brian     Wyman  1265\n1      Antonio      Meek  1451\n2        Leona    Obrien  1588\n3    Katherine    Rivera  1615\n4      Tiffany    Jordan  1667\n..         ...       ...   ...\n594     Wesley      Bull  4808\n595      Clara      Shaw  4808\n596      Tammy   Sanders  5065\n597    Eleanor      Hunt  5360\n598       Karl      Seal  5388\n\n[599 rows x 3 columns]",
      "text/html": "<div>\n<style scoped>\n    .dataframe tbody tr th:only-of-type {\n        vertical-align: middle;\n    }\n\n    .dataframe tbody tr th {\n        vertical-align: top;\n    }\n\n    .dataframe thead th {\n        text-align: right;\n    }\n</style>\n<table border=\"1\" class=\"dataframe\">\n  <thead>\n    <tr style=\"text-align: right;\">\n      <th></th>\n      <th>first_name</th>\n      <th>last_name</th>\n      <th>sum</th>\n    </tr>\n  </thead>\n  <tbody>\n    <tr>\n      <th>0</th>\n      <td>Brian</td>\n      <td>Wyman</td>\n      <td>1265</td>\n    </tr>\n    <tr>\n      <th>1</th>\n      <td>Antonio</td>\n      <td>Meek</td>\n      <td>1451</td>\n    </tr>\n    <tr>\n      <th>2</th>\n      <td>Leona</td>\n      <td>Obrien</td>\n      <td>1588</td>\n    </tr>\n    <tr>\n      <th>3</th>\n      <td>Katherine</td>\n      <td>Rivera</td>\n      <td>1615</td>\n    </tr>\n    <tr>\n      <th>4</th>\n      <td>Tiffany</td>\n      <td>Jordan</td>\n      <td>1667</td>\n    </tr>\n    <tr>\n      <th>...</th>\n      <td>...</td>\n      <td>...</td>\n      <td>...</td>\n    </tr>\n    <tr>\n      <th>594</th>\n      <td>Wesley</td>\n      <td>Bull</td>\n      <td>4808</td>\n    </tr>\n    <tr>\n      <th>595</th>\n      <td>Clara</td>\n      <td>Shaw</td>\n      <td>4808</td>\n    </tr>\n    <tr>\n      <th>596</th>\n      <td>Tammy</td>\n      <td>Sanders</td>\n      <td>5065</td>\n    </tr>\n    <tr>\n      <th>597</th>\n      <td>Eleanor</td>\n      <td>Hunt</td>\n      <td>5360</td>\n    </tr>\n    <tr>\n      <th>598</th>\n      <td>Karl</td>\n      <td>Seal</td>\n      <td>5388</td>\n    </tr>\n  </tbody>\n</table>\n<p>599 rows × 3 columns</p>\n</div>"
     },
     "execution_count": 27,
     "metadata": {},
     "output_type": "execute_result"
    }
   ],
   "source": [
    "#7. Wybierz wszystkich klientów, którzy oglądali filmy ponad 200 godzin.\n",
    "\n",
    "df = pd.read_sql(f\"\"\"\n",
    "        select distinct\n",
    "        c.first_name,\n",
    "        c.last_name,\n",
    "        sum(length)\n",
    "\n",
    "        from\n",
    "        film\n",
    "\n",
    "        join inventory using (film_id)\n",
    "        join rental using (inventory_id)\n",
    "        join customer c using (customer_id)\n",
    "\n",
    "        group by c.first_name, c.last_name\n",
    "        having sum(length) >= 200\n",
    "        order by sum(length),last_name asc\n",
    "            \"\"\", connection)\n",
    "df"
   ],
   "metadata": {
    "collapsed": false,
    "pycharm": {
     "name": "#%%\n"
    }
   }
  },
  {
   "cell_type": "code",
   "execution_count": 28,
   "outputs": [
    {
     "data": {
      "text/plain": "                     title       avg\n0       Graceland Dynamite  6.323333\n1                 Opus Ice  6.090000\n2         Braveheart Human  3.390000\n3           Wonderful Drop  5.865000\n4          Rush Goodfellas  2.918571\n..                     ...       ...\n953  Mockingbird Hollywood  2.444545\n954     Gathering Calendar  1.990000\n955         Drums Dynamite  1.913077\n956           Samurai Lion  4.240000\n957           Pond Seattle  3.434444\n\n[958 rows x 2 columns]",
      "text/html": "<div>\n<style scoped>\n    .dataframe tbody tr th:only-of-type {\n        vertical-align: middle;\n    }\n\n    .dataframe tbody tr th {\n        vertical-align: top;\n    }\n\n    .dataframe thead th {\n        text-align: right;\n    }\n</style>\n<table border=\"1\" class=\"dataframe\">\n  <thead>\n    <tr style=\"text-align: right;\">\n      <th></th>\n      <th>title</th>\n      <th>avg</th>\n    </tr>\n  </thead>\n  <tbody>\n    <tr>\n      <th>0</th>\n      <td>Graceland Dynamite</td>\n      <td>6.323333</td>\n    </tr>\n    <tr>\n      <th>1</th>\n      <td>Opus Ice</td>\n      <td>6.090000</td>\n    </tr>\n    <tr>\n      <th>2</th>\n      <td>Braveheart Human</td>\n      <td>3.390000</td>\n    </tr>\n    <tr>\n      <th>3</th>\n      <td>Wonderful Drop</td>\n      <td>5.865000</td>\n    </tr>\n    <tr>\n      <th>4</th>\n      <td>Rush Goodfellas</td>\n      <td>2.918571</td>\n    </tr>\n    <tr>\n      <th>...</th>\n      <td>...</td>\n      <td>...</td>\n    </tr>\n    <tr>\n      <th>953</th>\n      <td>Mockingbird Hollywood</td>\n      <td>2.444545</td>\n    </tr>\n    <tr>\n      <th>954</th>\n      <td>Gathering Calendar</td>\n      <td>1.990000</td>\n    </tr>\n    <tr>\n      <th>955</th>\n      <td>Drums Dynamite</td>\n      <td>1.913077</td>\n    </tr>\n    <tr>\n      <th>956</th>\n      <td>Samurai Lion</td>\n      <td>4.240000</td>\n    </tr>\n    <tr>\n      <th>957</th>\n      <td>Pond Seattle</td>\n      <td>3.434444</td>\n    </tr>\n  </tbody>\n</table>\n<p>958 rows × 2 columns</p>\n</div>"
     },
     "execution_count": 28,
     "metadata": {},
     "output_type": "execute_result"
    }
   ],
   "source": [
    "#8. Oblicz średnią wartość wypożyczenia filmu.\n",
    "\n",
    "df = pd.read_sql(f\"\"\"\n",
    "        select\n",
    "        title,\n",
    "        avg(payment.amount)\n",
    "\n",
    "        from\n",
    "        inventory\n",
    "\n",
    "        join rental using (inventory_id)\n",
    "        join payment using (rental_id)\n",
    "        join film using (film_id)\n",
    "        group by title\n",
    "\n",
    "            \"\"\", connection)\n",
    "df"
   ],
   "metadata": {
    "collapsed": false,
    "pycharm": {
     "name": "#%%\n"
    }
   }
  },
  {
   "cell_type": "code",
   "execution_count": 29,
   "outputs": [
    {
     "data": {
      "text/plain": "       category        avg\n0        Sports  128.20270\n1      Classics  111.66667\n2           New  111.12698\n3        Family  114.78261\n4        Comedy  115.82759\n5     Animation  111.01515\n6        Travel  113.31579\n7         Music  113.64706\n8         Drama  120.83871\n9        Horror  112.48214\n10       Sci-Fi  108.19672\n11        Games  127.83607\n12  Documentary  108.75000\n13      Foreign  121.69863\n14       Action  111.60938\n15     Children  109.80000",
      "text/html": "<div>\n<style scoped>\n    .dataframe tbody tr th:only-of-type {\n        vertical-align: middle;\n    }\n\n    .dataframe tbody tr th {\n        vertical-align: top;\n    }\n\n    .dataframe thead th {\n        text-align: right;\n    }\n</style>\n<table border=\"1\" class=\"dataframe\">\n  <thead>\n    <tr style=\"text-align: right;\">\n      <th></th>\n      <th>category</th>\n      <th>avg</th>\n    </tr>\n  </thead>\n  <tbody>\n    <tr>\n      <th>0</th>\n      <td>Sports</td>\n      <td>128.20270</td>\n    </tr>\n    <tr>\n      <th>1</th>\n      <td>Classics</td>\n      <td>111.66667</td>\n    </tr>\n    <tr>\n      <th>2</th>\n      <td>New</td>\n      <td>111.12698</td>\n    </tr>\n    <tr>\n      <th>3</th>\n      <td>Family</td>\n      <td>114.78261</td>\n    </tr>\n    <tr>\n      <th>4</th>\n      <td>Comedy</td>\n      <td>115.82759</td>\n    </tr>\n    <tr>\n      <th>5</th>\n      <td>Animation</td>\n      <td>111.01515</td>\n    </tr>\n    <tr>\n      <th>6</th>\n      <td>Travel</td>\n      <td>113.31579</td>\n    </tr>\n    <tr>\n      <th>7</th>\n      <td>Music</td>\n      <td>113.64706</td>\n    </tr>\n    <tr>\n      <th>8</th>\n      <td>Drama</td>\n      <td>120.83871</td>\n    </tr>\n    <tr>\n      <th>9</th>\n      <td>Horror</td>\n      <td>112.48214</td>\n    </tr>\n    <tr>\n      <th>10</th>\n      <td>Sci-Fi</td>\n      <td>108.19672</td>\n    </tr>\n    <tr>\n      <th>11</th>\n      <td>Games</td>\n      <td>127.83607</td>\n    </tr>\n    <tr>\n      <th>12</th>\n      <td>Documentary</td>\n      <td>108.75000</td>\n    </tr>\n    <tr>\n      <th>13</th>\n      <td>Foreign</td>\n      <td>121.69863</td>\n    </tr>\n    <tr>\n      <th>14</th>\n      <td>Action</td>\n      <td>111.60938</td>\n    </tr>\n    <tr>\n      <th>15</th>\n      <td>Children</td>\n      <td>109.80000</td>\n    </tr>\n  </tbody>\n</table>\n</div>"
     },
     "execution_count": 29,
     "metadata": {},
     "output_type": "execute_result"
    }
   ],
   "source": [
    "#9. Oblicz średnią wartość długości filmu we wszystkich kategoriach.\n",
    "\n",
    "df = pd.read_sql(f\"\"\"\n",
    "        select\n",
    "        c.name as category,\n",
    "        round(avg(length), 5) as avg\n",
    "\n",
    "        from film\n",
    "\n",
    "        join film_category using (film_id)\n",
    "        join category c using (category_id)\n",
    "        group by c.name\n",
    "            \"\"\", connection)\n",
    "df"
   ],
   "metadata": {
    "collapsed": false,
    "pycharm": {
     "name": "#%%\n"
    }
   }
  },
  {
   "cell_type": "code",
   "execution_count": 30,
   "outputs": [
    {
     "data": {
      "text/plain": "           name               title  length\n0        Action      Darn Forrester     185\n1        Action        Worst Banger     185\n2     Animation        Pond Seattle     185\n3     Animation         Gangs Pride     185\n4      Children         Fury Murder     178\n5      Children      Wrong Behavior     178\n6      Classics   Conspiracy Spirit     184\n7        Comedy      Control Anthem     185\n8   Documentary      Young Language     183\n9   Documentary           Wife Turn     183\n10        Drama       Jacket Frisco     181\n11       Family      King Evolution     184\n12      Foreign      Sorority Queen     184\n13      Foreign    Crystal Breaking     184\n14        Games       Chicago North     185\n15       Horror    Analyze Hoosiers     181\n16       Horror       Love Suicides     181\n17        Music           Home Pity     185\n18          New      Frontier Cabin     183\n19       Sci-Fi  Soldiers Evolution     185\n20       Sports     Smoochy Control     184\n21       Travel   Sweet Brotherhood     185\n22       Travel       Muscle Bright     185",
      "text/html": "<div>\n<style scoped>\n    .dataframe tbody tr th:only-of-type {\n        vertical-align: middle;\n    }\n\n    .dataframe tbody tr th {\n        vertical-align: top;\n    }\n\n    .dataframe thead th {\n        text-align: right;\n    }\n</style>\n<table border=\"1\" class=\"dataframe\">\n  <thead>\n    <tr style=\"text-align: right;\">\n      <th></th>\n      <th>name</th>\n      <th>title</th>\n      <th>length</th>\n    </tr>\n  </thead>\n  <tbody>\n    <tr>\n      <th>0</th>\n      <td>Action</td>\n      <td>Darn Forrester</td>\n      <td>185</td>\n    </tr>\n    <tr>\n      <th>1</th>\n      <td>Action</td>\n      <td>Worst Banger</td>\n      <td>185</td>\n    </tr>\n    <tr>\n      <th>2</th>\n      <td>Animation</td>\n      <td>Pond Seattle</td>\n      <td>185</td>\n    </tr>\n    <tr>\n      <th>3</th>\n      <td>Animation</td>\n      <td>Gangs Pride</td>\n      <td>185</td>\n    </tr>\n    <tr>\n      <th>4</th>\n      <td>Children</td>\n      <td>Fury Murder</td>\n      <td>178</td>\n    </tr>\n    <tr>\n      <th>5</th>\n      <td>Children</td>\n      <td>Wrong Behavior</td>\n      <td>178</td>\n    </tr>\n    <tr>\n      <th>6</th>\n      <td>Classics</td>\n      <td>Conspiracy Spirit</td>\n      <td>184</td>\n    </tr>\n    <tr>\n      <th>7</th>\n      <td>Comedy</td>\n      <td>Control Anthem</td>\n      <td>185</td>\n    </tr>\n    <tr>\n      <th>8</th>\n      <td>Documentary</td>\n      <td>Young Language</td>\n      <td>183</td>\n    </tr>\n    <tr>\n      <th>9</th>\n      <td>Documentary</td>\n      <td>Wife Turn</td>\n      <td>183</td>\n    </tr>\n    <tr>\n      <th>10</th>\n      <td>Drama</td>\n      <td>Jacket Frisco</td>\n      <td>181</td>\n    </tr>\n    <tr>\n      <th>11</th>\n      <td>Family</td>\n      <td>King Evolution</td>\n      <td>184</td>\n    </tr>\n    <tr>\n      <th>12</th>\n      <td>Foreign</td>\n      <td>Sorority Queen</td>\n      <td>184</td>\n    </tr>\n    <tr>\n      <th>13</th>\n      <td>Foreign</td>\n      <td>Crystal Breaking</td>\n      <td>184</td>\n    </tr>\n    <tr>\n      <th>14</th>\n      <td>Games</td>\n      <td>Chicago North</td>\n      <td>185</td>\n    </tr>\n    <tr>\n      <th>15</th>\n      <td>Horror</td>\n      <td>Analyze Hoosiers</td>\n      <td>181</td>\n    </tr>\n    <tr>\n      <th>16</th>\n      <td>Horror</td>\n      <td>Love Suicides</td>\n      <td>181</td>\n    </tr>\n    <tr>\n      <th>17</th>\n      <td>Music</td>\n      <td>Home Pity</td>\n      <td>185</td>\n    </tr>\n    <tr>\n      <th>18</th>\n      <td>New</td>\n      <td>Frontier Cabin</td>\n      <td>183</td>\n    </tr>\n    <tr>\n      <th>19</th>\n      <td>Sci-Fi</td>\n      <td>Soldiers Evolution</td>\n      <td>185</td>\n    </tr>\n    <tr>\n      <th>20</th>\n      <td>Sports</td>\n      <td>Smoochy Control</td>\n      <td>184</td>\n    </tr>\n    <tr>\n      <th>21</th>\n      <td>Travel</td>\n      <td>Sweet Brotherhood</td>\n      <td>185</td>\n    </tr>\n    <tr>\n      <th>22</th>\n      <td>Travel</td>\n      <td>Muscle Bright</td>\n      <td>185</td>\n    </tr>\n  </tbody>\n</table>\n</div>"
     },
     "execution_count": 30,
     "metadata": {},
     "output_type": "execute_result"
    }
   ],
   "source": [
    "#10. Znajdź najdłuższe tytuły filmowe we wszystkich kategoriach.\n",
    "\n",
    "df = pd.read_sql(f\"\"\"\n",
    "        select\n",
    "        name,\n",
    "        title,\n",
    "        length\n",
    "        from\n",
    "        film\n",
    "\n",
    "        join film_category using (film_id)\\\n",
    "        join category c using (category_id)\n",
    "        where(name, length)\n",
    "        in(select\n",
    "        c.name as category,\n",
    "        max(length)\n",
    "        from\n",
    "        film\n",
    "\n",
    "        join film_category using (film_id)\n",
    "        join category c using (category_id)\n",
    "        group by c.name)\n",
    "        order by name\n",
    "            \"\"\", connection)\n",
    "df"
   ],
   "metadata": {
    "collapsed": false,
    "pycharm": {
     "name": "#%%\n"
    }
   }
  },
  {
   "cell_type": "code",
   "execution_count": 31,
   "outputs": [
    {
     "data": {
      "text/plain": "    name          title  length\n0  Games  Chicago North     185",
      "text/html": "<div>\n<style scoped>\n    .dataframe tbody tr th:only-of-type {\n        vertical-align: middle;\n    }\n\n    .dataframe tbody tr th {\n        vertical-align: top;\n    }\n\n    .dataframe thead th {\n        text-align: right;\n    }\n</style>\n<table border=\"1\" class=\"dataframe\">\n  <thead>\n    <tr style=\"text-align: right;\">\n      <th></th>\n      <th>name</th>\n      <th>title</th>\n      <th>length</th>\n    </tr>\n  </thead>\n  <tbody>\n    <tr>\n      <th>0</th>\n      <td>Games</td>\n      <td>Chicago North</td>\n      <td>185</td>\n    </tr>\n  </tbody>\n</table>\n</div>"
     },
     "execution_count": 31,
     "metadata": {},
     "output_type": "execute_result"
    }
   ],
   "source": [
    "# 11. Znajdź najdłuższy film we wszystkich kategoriach. Porównaj wynik z pkt 10.\n",
    "df = pd.read_sql(f\"\"\"\n",
    "        select\n",
    "        name,\n",
    "        title,\n",
    "        length\n",
    "\n",
    "        from\n",
    "        film\n",
    "\n",
    "        join film_category using (film_id)\n",
    "        join category c using (category_id)\n",
    "        where(name, length)\n",
    "        in(select\n",
    "        c.name as category,\n",
    "        max(length)\n",
    "        from\n",
    "        film\n",
    "        join film_category using (film_id)\n",
    "        join category c using (category_id)\n",
    "        group by c.name)\n",
    "        order by length desc limit 1\n",
    "            \"\"\", connection)\n",
    "df"
   ],
   "metadata": {
    "collapsed": false,
    "pycharm": {
     "name": "#%%\n"
    }
   }
  },
  {
   "cell_type": "code",
   "execution_count": 31,
   "outputs": [],
   "source": [],
   "metadata": {
    "collapsed": false,
    "pycharm": {
     "name": "#%%\n"
    }
   }
  }
 ],
 "metadata": {
  "kernelspec": {
   "name": "python3",
   "language": "python",
   "display_name": "Python 3 (ipykernel)"
  },
  "language_info": {
   "codemirror_mode": {
    "name": "ipython",
    "version": 3
   },
   "file_extension": ".py",
   "mimetype": "text/x-python",
   "name": "python",
   "nbconvert_exporter": "python",
   "pygments_lexer": "ipython3",
   "version": "3.7.6-final"
  }
 },
 "nbformat": 4,
 "nbformat_minor": 2
}